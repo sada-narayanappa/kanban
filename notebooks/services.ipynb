{
 "cells": [
  {
   "cell_type": "code",
   "execution_count": 8,
   "id": "4f56744f",
   "metadata": {},
   "outputs": [
    {
     "name": "stdout",
     "output_type": "stream",
     "text": [
      "Overwriting ../services.py\n"
     ]
    }
   ],
   "source": [
    "%%writefile ../services.py\n",
    "#!/usr/bin/env python \n",
    "#*** DO NOT EDIT - GENERATED FROM notebooks/services.ipynb ****\n",
    "\n",
    "import sys, os,  glob, logging, json\n",
    "from  mangorest.mango import webapi\n",
    "\n",
    "MBASE  = \"/opt/data/data/kanban/\"\n",
    "logger = logging.getLogger( \"kanban\" )\n",
    "#---------------------------------------------------------------------------------    \n",
    "@webapi(\"/kanban/save\")\n",
    "def save( request, name, contents,**kwargs):\n",
    "    name = name or \"default\"\n",
    "    if (name.endswith(\".json\")):\n",
    "        name = name[:-5]\n",
    "        \n",
    "    dst = f\"{MBASE}/{name}.json\"\n",
    "    dstd= os.path.dirname(dst)\n",
    "    if not os.path.exists(dstd ):\n",
    "        os.makedirs(dstd)\n",
    "\n",
    "    with open(dst, \"w\") as f:\n",
    "        f.write(contents.strip().replace(\"\\r\", \"\"))\n",
    "\n",
    "    return f\"Saved {dst}\"    \n",
    "#---------------------------------------------------------------------------------    \n",
    "@webapi(\"/kanban/get\")\n",
    "def get( name, **kwargs):\n",
    "    if (name.endswith(\".json\")):\n",
    "        name = name[:-5]\n",
    "    dst = f\"{MBASE}/{name}.json\"\n",
    "    if not os.path.exists(dst):\n",
    "        ret = \"{}\"\n",
    "    else:\n",
    "        ret = open(dst, \"r\").read()\n",
    "    return ret  \n",
    "#------------------------------------------------------------------------------\n",
    "@webapi(\"/kanban/delete\")\n",
    "def delete(name=\"\", **kwargs):\n",
    "    dst = f\"{MBASE}/{name}.json\"\n",
    "    if ( not os.path.exists(dst) ):\n",
    "        return \"OK {dst} does not exist!!\"\n",
    "    os.remove(dst)\n",
    "    return f\"Deleted {dst}.\"\n",
    "#------------------------------------------------------------------------------\n",
    "@webapi(\"/kanban/getall\")\n",
    "def getAllDashboards( nrows=10000, patt='*.json', **kwargs):\n",
    "    files = glob.glob(f\"{MBASE}{patt}\")\n",
    "    files.sort(key=os.path.getmtime, reverse=True)\n",
    "    ret = {\n",
    "        \"name\": \"dashboards\",\n",
    "        \"columns\": [\"name\"],\n",
    "        \"values\": [[f[len(MBASE):]] for f in files][0:nrows]\n",
    "    }\n",
    "    return ret\n"
   ]
  }
 ],
 "metadata": {
  "hide_input": false,
  "kernelspec": {
   "display_name": "Python 3 (ipykernel)",
   "language": "python",
   "name": "python3"
  },
  "language_info": {
   "codemirror_mode": {
    "name": "ipython",
    "version": 3
   },
   "file_extension": ".py",
   "mimetype": "text/x-python",
   "name": "python",
   "nbconvert_exporter": "python",
   "pygments_lexer": "ipython3",
   "version": "3.8.3"
  },
  "toc": {
   "base_numbering": 1,
   "nav_menu": {},
   "number_sections": true,
   "sideBar": true,
   "skip_h1_title": false,
   "title_cell": "Table of Contents",
   "title_sidebar": "Contents",
   "toc_cell": false,
   "toc_position": {},
   "toc_section_display": true,
   "toc_window_display": false
  },
  "varInspector": {
   "cols": {
    "lenName": 16,
    "lenType": 16,
    "lenVar": 40
   },
   "kernels_config": {
    "python": {
     "delete_cmd_postfix": "",
     "delete_cmd_prefix": "del ",
     "library": "var_list.py",
     "varRefreshCmd": "print(var_dic_list())"
    },
    "r": {
     "delete_cmd_postfix": ") ",
     "delete_cmd_prefix": "rm(",
     "library": "var_list.r",
     "varRefreshCmd": "cat(var_dic_list()) "
    }
   },
   "types_to_exclude": [
    "module",
    "function",
    "builtin_function_or_method",
    "instance",
    "_Feature"
   ],
   "window_display": false
  },
  "vscode": {
   "interpreter": {
    "hash": "949777d72b0d2535278d3dc13498b2535136f6dfe0678499012e853ee9abcab1"
   }
  }
 },
 "nbformat": 4,
 "nbformat_minor": 5
}
